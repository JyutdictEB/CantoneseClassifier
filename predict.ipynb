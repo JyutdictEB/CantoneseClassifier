{
 "cells": [
  {
   "cell_type": "code",
   "execution_count": null,
   "metadata": {},
   "outputs": [],
   "source": [
    "\n",
    "from transformers import BertTokenizerFast\n",
    "from transformers import AutoModelForSequenceClassification\n",
    "import torch\n",
    "\n",
    "model = AutoModelForSequenceClassification.from_pretrained(\"./yue-classifier-can\", num_labels=2)\n",
    "\n",
    "tokenizer = BertTokenizerFast.from_pretrained('../bert-base-chinese')\n",
    "device = torch.device(\"cuda\") if torch.cuda.is_available() else torch.device(\"cpu\")"
   ]
  },
  {
   "cell_type": "code",
   "execution_count": null,
   "metadata": {},
   "outputs": [],
   "source": [
    "def predict(text):\n",
    "    # model trained with max_length = 64\n",
    "    token = tokenizer(text,return_tensors='pt',max_length=128)\n",
    "    inputs = token['input_ids']\n",
    "    mask = token['attention_mask']\n",
    "    outputs = model(input_ids=inputs, attention_mask=mask)\n",
    "    logits = outputs.logits\n",
    "    return logits.argmax(-1).tolist()[0]"
   ]
  },
  {
   "cell_type": "code",
   "execution_count": null,
   "metadata": {},
   "outputs": [],
   "source": [
    "#output labels to files\n",
    "with open('../yue-cmn-classification-task-main/test.text.txt') as f:\n",
    "  lines = [l.strip() for l in f.readlines()]\n",
    "labels = [str(1 - predict(l)) for l in lines]\n",
    "with open('./output_label_base.txt',mode='w') as f:\n",
    "  f.writelines(\"\\n\".join(labels))"
   ]
  },
  {
   "cell_type": "code",
   "execution_count": null,
   "metadata": {},
   "outputs": [],
   "source": [
    "# predict to stdout\n",
    "with open('daaizungDimpingRaw.txt') as f:\n",
    "  lines = [l.strip() for l in f.readlines()]\n",
    "for l in lines:\n",
    "  if predict(l) == 0:\n",
    "    print(l)"
   ]
  }
 ],
 "metadata": {
  "interpreter": {
   "hash": "d3709d0369c0f205075bbf2caa11ca9e3ee451d42fb4d7ba05e7bde4a2f4f2a6"
  },
  "kernelspec": {
   "display_name": "Python 3.9.12 ('pytorch')",
   "language": "python",
   "name": "python3"
  },
  "language_info": {
   "codemirror_mode": {
    "name": "ipython",
    "version": 3
   },
   "file_extension": ".py",
   "mimetype": "text/x-python",
   "name": "python",
   "nbconvert_exporter": "python",
   "pygments_lexer": "ipython3",
   "version": "3.9.12"
  },
  "orig_nbformat": 4
 },
 "nbformat": 4,
 "nbformat_minor": 2
}
